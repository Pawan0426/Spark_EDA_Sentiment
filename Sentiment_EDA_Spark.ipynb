{
 "cells": [
  {
   "cell_type": "code",
   "execution_count": 0,
   "metadata": {
    "application/vnd.databricks.v1+cell": {
     "cellMetadata": {
      "byteLimit": 2048000,
      "rowLimit": 10000
     },
     "inputWidgets": {},
     "nuid": "b3d62288-81a7-427c-a055-6a87c66ecf98",
     "showTitle": false,
     "title": ""
    }
   },
   "outputs": [],
   "source": [
    "# Import a libaray\n",
    "import pyspark\n",
    "from pyspark.sql import SparkSession\n",
    "from pyspark.sql.types import StructType, StructField, StringType, IntegerType\n",
    "from pyspark.sql.functions import *"
   ]
  },
  {
   "cell_type": "code",
   "execution_count": 0,
   "metadata": {
    "application/vnd.databricks.v1+cell": {
     "cellMetadata": {
      "byteLimit": 2048000,
      "rowLimit": 10000
     },
     "inputWidgets": {},
     "nuid": "b1505ef3-48bb-438f-838e-7dffde97b749",
     "showTitle": true,
     "title": "Reading data in spark in databricks environment."
    }
   },
   "outputs": [],
   "source": [
    "# Creating DataFrame using Spark\n",
    "df = spark.read.load('/FileStore/tables/twitter_training-1.csv', format='csv', sep=',', header='true', inferSchema='true')\n"
   ]
  },
  {
   "cell_type": "code",
   "execution_count": 0,
   "metadata": {
    "application/vnd.databricks.v1+cell": {
     "cellMetadata": {
      "byteLimit": 2048000,
      "rowLimit": 10000
     },
     "inputWidgets": {},
     "nuid": "387058f9-8f41-4251-bb22-6e329264e4ac",
     "showTitle": false,
     "title": ""
    }
   },
   "outputs": [
    {
     "output_type": "stream",
     "name": "stdout",
     "output_type": "stream",
     "text": [
      "+----+-----------+--------+-----------------------------------------------------+\n|2401|Borderlands|Positive|im getting on borderlands and i will murder you all ,|\n+----+-----------+--------+-----------------------------------------------------+\n|2401|Borderlands|Positive|                                 I am coming to th...|\n+----+-----------+--------+-----------------------------------------------------+\nonly showing top 1 row\n\n"
     ]
    }
   ],
   "source": [
    "df.show(1)"
   ]
  },
  {
   "cell_type": "code",
   "execution_count": 0,
   "metadata": {
    "application/vnd.databricks.v1+cell": {
     "cellMetadata": {
      "byteLimit": 2048000,
      "rowLimit": 10000
     },
     "inputWidgets": {},
     "nuid": "7ac5d11a-9d57-478c-9592-024cc6d855b2",
     "showTitle": true,
     "title": "Converting column into desire form"
    }
   },
   "outputs": [],
   "source": [
    "# Renaming DataFrame columns using withColumnRenamed()\n",
    "df = df.withColumnRenamed(\"2401\", \"ID\") \\\n",
    "       .withColumnRenamed(\"Borderlands\", \"Category\") \\\n",
    "       .withColumnRenamed(\"Positive\", \"Sentiment\") \\\n",
    "       .withColumnRenamed(\"im getting on borderlands and i will murder you all ,\", \"Text\")\n"
   ]
  },
  {
   "cell_type": "code",
   "execution_count": 0,
   "metadata": {
    "application/vnd.databricks.v1+cell": {
     "cellMetadata": {
      "byteLimit": 2048000,
      "rowLimit": 10000
     },
     "inputWidgets": {},
     "nuid": "1ecaf18f-9bb0-498f-841c-ac1cf25bb3dd",
     "showTitle": false,
     "title": ""
    }
   },
   "outputs": [
    {
     "output_type": "stream",
     "name": "stdout",
     "output_type": "stream",
     "text": [
      "+----+-----------+---------+--------------------+\n|  ID|   Category|Sentiment|                Text|\n+----+-----------+---------+--------------------+\n|2401|Borderlands| Positive|I am coming to th...|\n+----+-----------+---------+--------------------+\nonly showing top 1 row\n\n"
     ]
    }
   ],
   "source": [
    "df.show(1)"
   ]
  },
  {
   "cell_type": "code",
   "execution_count": 0,
   "metadata": {
    "application/vnd.databricks.v1+cell": {
     "cellMetadata": {
      "byteLimit": 2048000,
      "rowLimit": 10000
     },
     "inputWidgets": {},
     "nuid": "63af8cf9-e51a-45f1-88dc-c77273ec4516",
     "showTitle": true,
     "title": "Checking all the values in Sentiment column"
    }
   },
   "outputs": [
    {
     "output_type": "stream",
     "name": "stdout",
     "output_type": "stream",
     "text": [
      "+----------+-----+\n| Sentiment|count|\n+----------+-----+\n|Irrelevant|12990|\n|  Positive|20831|\n|   Neutral|18318|\n|  Negative|22542|\n+----------+-----+\n\n"
     ]
    }
   ],
   "source": [
    "# Group by 'Sentiment' column and count occurrences of each value\n",
    "sentiment_counts = df.groupBy('Sentiment').count()\n",
    "\n",
    "# Show the counts\n",
    "sentiment_counts.show()\n"
   ]
  },
  {
   "cell_type": "code",
   "execution_count": 0,
   "metadata": {
    "application/vnd.databricks.v1+cell": {
     "cellMetadata": {
      "byteLimit": 2048000,
      "rowLimit": 10000
     },
     "inputWidgets": {},
     "nuid": "ffb2e95d-d3c6-45ea-a919-747255115946",
     "showTitle": true,
     "title": "Converting all Irrelevant to Neutral"
    }
   },
   "outputs": [],
   "source": [
    "# Replace \"Irrelevant\" with \"Neutral\" in the \"Sentiment\" column\n",
    "df = df.withColumn(\"Sentiment\", when(df[\"Sentiment\"] == \"Irrelevant\", \"Neutral\").otherwise(df[\"Sentiment\"]))\n"
   ]
  },
  {
   "cell_type": "code",
   "execution_count": 0,
   "metadata": {
    "application/vnd.databricks.v1+cell": {
     "cellMetadata": {
      "byteLimit": 2048000,
      "rowLimit": 10000
     },
     "inputWidgets": {},
     "nuid": "09de11e7-7a82-4a39-8a50-67b59c590d30",
     "showTitle": true,
     "title": "Checking total number of Positive, Neutral and Negative after converting Irrelevant to Neutral"
    }
   },
   "outputs": [
    {
     "output_type": "stream",
     "name": "stdout",
     "output_type": "stream",
     "text": [
      "+---------+-----+\n|Sentiment|count|\n+---------+-----+\n| Positive|20831|\n|  Neutral|31308|\n| Negative|22542|\n+---------+-----+\n\n"
     ]
    }
   ],
   "source": [
    "# Group by 'Sentiment' column and count occurrences of each value\n",
    "sentiment_counts = df.groupBy('Sentiment').count()\n",
    "\n",
    "# Show the counts\n",
    "sentiment_counts.show()\n"
   ]
  },
  {
   "cell_type": "code",
   "execution_count": 0,
   "metadata": {
    "application/vnd.databricks.v1+cell": {
     "cellMetadata": {
      "byteLimit": 2048000,
      "rowLimit": 10000
     },
     "inputWidgets": {},
     "nuid": "0cf1d797-3206-49b1-bcf0-ebabac1cd826",
     "showTitle": true,
     "title": "Sentiment coulmn has no null value"
    }
   },
   "outputs": [
    {
     "output_type": "stream",
     "name": "stdout",
     "output_type": "stream",
     "text": [
      "+---+--------+---------+----+\n| ID|Category|Sentiment|Text|\n+---+--------+---------+----+\n+---+--------+---------+----+\n\n"
     ]
    }
   ],
   "source": [
    "# Check for null values in a specific column\n",
    "null_check_Sentiment = df.filter(df['Sentiment'].isNull())\n",
    "\n",
    "# Show rows with null values in the specific column\n",
    "null_check_Sentiment.show()\n"
   ]
  },
  {
   "cell_type": "code",
   "execution_count": 0,
   "metadata": {
    "application/vnd.databricks.v1+cell": {
     "cellMetadata": {
      "byteLimit": 2048000,
      "rowLimit": 10000
     },
     "inputWidgets": {},
     "nuid": "1a29d898-0b92-4022-9cdd-1e67eeffa02a",
     "showTitle": true,
     "title": "Category column has no null value"
    }
   },
   "outputs": [
    {
     "output_type": "stream",
     "name": "stdout",
     "output_type": "stream",
     "text": [
      "+---+--------+---------+----+\n| ID|Category|Sentiment|Text|\n+---+--------+---------+----+\n+---+--------+---------+----+\n\n"
     ]
    }
   ],
   "source": [
    "# Check for null values in a specific column\n",
    "null_check_Category = df.filter(df['Category'].isNull())\n",
    "\n",
    "# Show rows with null values in the specific column\n",
    "null_check_Category.show()\n"
   ]
  },
  {
   "cell_type": "code",
   "execution_count": 0,
   "metadata": {
    "application/vnd.databricks.v1+cell": {
     "cellMetadata": {
      "byteLimit": 2048000,
      "rowLimit": 10000
     },
     "inputWidgets": {},
     "nuid": "86447943-cdbe-4bd6-ac71-761c36ff0dfe",
     "showTitle": true,
     "title": "Row with null value in Text column"
    }
   },
   "outputs": [
    {
     "output_type": "stream",
     "name": "stdout",
     "output_type": "stream",
     "text": [
      "+----+--------------------+---------+----+\n|  ID|            Category|Sentiment|Text|\n+----+--------------------+---------+----+\n|2411|         Borderlands|  Neutral|null|\n|2496|         Borderlands|  Neutral|null|\n|2503|         Borderlands|  Neutral|null|\n|2532|         Borderlands| Positive|null|\n|2595|         Borderlands| Positive|null|\n|2595|         Borderlands| Positive|null|\n|1602|CallOfDutyBlackop...|  Neutral|null|\n|1602|CallOfDutyBlackop...|  Neutral|null|\n|1602|CallOfDutyBlackop...|  Neutral|null|\n|1613|CallOfDutyBlackop...|  Neutral|null|\n|1622|CallOfDutyBlackop...| Negative|null|\n|1632|CallOfDutyBlackop...|  Neutral|null|\n|1632|CallOfDutyBlackop...|  Neutral|null|\n|1708|CallOfDutyBlackop...| Positive|null|\n|1717|CallOfDutyBlackop...|  Neutral|null|\n|1719|CallOfDutyBlackop...| Positive|null|\n|1719|CallOfDutyBlackop...| Positive|null|\n|1719|CallOfDutyBlackop...| Positive|null|\n|1731|CallOfDutyBlackop...| Negative|null|\n|1737|CallOfDutyBlackop...| Negative|null|\n+----+--------------------+---------+----+\nonly showing top 20 rows\n\n"
     ]
    }
   ],
   "source": [
    "# Text column has null value\n",
    "# Check for null values in a specific column\n",
    "null_check_Text = df.filter(df['Text'].isNull())\n",
    "\n",
    "# Show rows with null values in the specific column\n",
    "null_check_Text.show()\n"
   ]
  },
  {
   "cell_type": "code",
   "execution_count": 0,
   "metadata": {
    "application/vnd.databricks.v1+cell": {
     "cellMetadata": {
      "byteLimit": 2048000,
      "rowLimit": 10000
     },
     "inputWidgets": {},
     "nuid": "f8b95136-d943-46b3-a965-c4bb85d5ca07",
     "showTitle": true,
     "title": "Checking how many null value Text column has."
    }
   },
   "outputs": [
    {
     "output_type": "stream",
     "name": "stdout",
     "output_type": "stream",
     "text": [
      "Number of null values in the 'Text' column: 686\n"
     ]
    }
   ],
   "source": [
    "# Count the number of null values in the 'Text' column\n",
    "null_count_Text = df.filter(df['Text'].isNull()).count()\n",
    "\n",
    "# Display the count of null values in the 'Text' column\n",
    "print(\"Number of null values in the 'Text' column:\", null_count_Text)\n"
   ]
  },
  {
   "cell_type": "code",
   "execution_count": 0,
   "metadata": {
    "application/vnd.databricks.v1+cell": {
     "cellMetadata": {
      "byteLimit": 2048000,
      "rowLimit": 10000
     },
     "inputWidgets": {},
     "nuid": "04fb1921-03ec-48f9-a9cb-a649fe5ba27b",
     "showTitle": true,
     "title": "Dropping all the null Value from Text column"
    }
   },
   "outputs": [],
   "source": [
    "# Drop rows with null values in the 'Text' column\n",
    "df = df.dropna(subset=['Text'])\n"
   ]
  },
  {
   "cell_type": "code",
   "execution_count": 0,
   "metadata": {
    "application/vnd.databricks.v1+cell": {
     "cellMetadata": {
      "byteLimit": 2048000,
      "rowLimit": 10000
     },
     "inputWidgets": {},
     "nuid": "07d68995-f150-4881-8c11-d3129637df18",
     "showTitle": true,
     "title": "After dropping null value we do not have any null value in Text column"
    }
   },
   "outputs": [
    {
     "output_type": "stream",
     "name": "stdout",
     "output_type": "stream",
     "text": [
      "Number of null values in the 'Text' column: 0\n"
     ]
    }
   ],
   "source": [
    "# Count the number of null values in the 'Text' column\n",
    "null_count_Text = df.filter(df['Text'].isNull()).count()\n",
    "\n",
    "# Display the count of null values in the 'Text' column\n",
    "print(\"Number of null values in the 'Text' column:\", null_count_Text)\n"
   ]
  },
  {
   "cell_type": "code",
   "execution_count": 0,
   "metadata": {
    "application/vnd.databricks.v1+cell": {
     "cellMetadata": {
      "byteLimit": 2048000,
      "rowLimit": 10000
     },
     "inputWidgets": {},
     "nuid": "7db72e18-287d-477a-bb90-dafab1f2af26",
     "showTitle": false,
     "title": ""
    }
   },
   "outputs": [
    {
     "output_type": "stream",
     "name": "stderr",
     "output_type": "stream",
     "text": [
      "[nltk_data] Downloading package stopwords to /root/nltk_data...\n[nltk_data]   Package stopwords is already up-to-date!\n[nltk_data] Downloading package punkt to /root/nltk_data...\n[nltk_data]   Package punkt is already up-to-date!\n[nltk_data] Downloading package wordnet to /root/nltk_data...\n[nltk_data]   Package wordnet is already up-to-date!\n"
     ]
    }
   ],
   "source": [
    "from pyspark.sql.functions import lower, regexp_replace, split\n",
    "from pyspark.ml.feature import StopWordsRemover\n",
    "from nltk.tokenize import word_tokenize\n",
    "from nltk.stem import WordNetLemmatizer\n",
    "from nltk.corpus import stopwords\n",
    "import nltk\n",
    "nltk.download('stopwords')\n",
    "nltk.download('punkt')\n",
    "nltk.download('wordnet')\n",
    "\n",
    "# Function to perform text preprocessing\n",
    "def preprocess_text_spark(df, input_col, output_col):\n",
    "    # Convert text to lowercase\n",
    "    df = df.withColumn(output_col, lower(df[input_col]))\n",
    "    \n",
    "    # Remove special characters and punctuation\n",
    "    df = df.withColumn(output_col, regexp_replace(df[output_col], '[^a-zA-Z\\s]', ''))\n",
    "    \n",
    "    # Tokenization\n",
    "    df = df.withColumn(output_col, split(df[output_col], ' '))\n",
    "    \n",
    "    # Remove stop words\n",
    "    stop_words = set(stopwords.words('english'))\n",
    "    remover = StopWordsRemover(inputCol=output_col, outputCol=output_col + '_filtered', stopWords=list(stop_words))\n",
    "    df = remover.transform(df).drop(output_col)\n",
    "    \n",
    "    # Lemmatization\n",
    "    lemmatizer = WordNetLemmatizer()\n",
    "    lemmatize_udf = udf(lambda tokens: [lemmatizer.lemmatize(token) for token in tokens], ArrayType(StringType()))\n",
    "    df = df.withColumn(output_col, lemmatize_udf(df[output_col + '_filtered'])).drop(output_col + '_filtered')\n",
    "    \n",
    "    return df\n"
   ]
  },
  {
   "cell_type": "code",
   "execution_count": 0,
   "metadata": {
    "application/vnd.databricks.v1+cell": {
     "cellMetadata": {
      "byteLimit": 2048000,
      "rowLimit": 10000
     },
     "inputWidgets": {},
     "nuid": "144440a5-6c2c-4ca1-90e6-0fb2646dfb54",
     "showTitle": false,
     "title": ""
    }
   },
   "outputs": [
    {
     "output_type": "stream",
     "name": "stdout",
     "output_type": "stream",
     "text": [
      "+----+-----------+---------+-----------------------------------------------------------------------------------------------------------------------------------------------------------------------------------------------------------------------------------------------------------------------------------------------------+-------------------------------------------------------------------------------------------------------------------------------------------------------------------------------------------------------------------------------+\n|ID  |Category   |Sentiment|Text                                                                                                                                                                                                                                                                                                 |Preprocessed_Text                                                                                                                                                                                                              |\n+----+-----------+---------+-----------------------------------------------------------------------------------------------------------------------------------------------------------------------------------------------------------------------------------------------------------------------------------------------------+-------------------------------------------------------------------------------------------------------------------------------------------------------------------------------------------------------------------------------+\n|2401|Borderlands|Positive |I am coming to the borders and I will kill you all,                                                                                                                                                                                                                                                  |[coming, border, kill]                                                                                                                                                                                                         |\n|2401|Borderlands|Positive |im getting on borderlands and i will kill you all,                                                                                                                                                                                                                                                   |[im, getting, borderland, kill]                                                                                                                                                                                                |\n|2401|Borderlands|Positive |im coming on borderlands and i will murder you all,                                                                                                                                                                                                                                                  |[im, coming, borderland, murder]                                                                                                                                                                                               |\n|2401|Borderlands|Positive |im getting on borderlands 2 and i will murder you me all,                                                                                                                                                                                                                                            |[im, getting, borderland, , murder]                                                                                                                                                                                            |\n|2401|Borderlands|Positive |im getting into borderlands and i can murder you all,                                                                                                                                                                                                                                                |[im, getting, borderland, murder]                                                                                                                                                                                              |\n|2402|Borderlands|Positive |So I spent a few hours making something for fun. . . If you don't know I am a HUGE @Borderlands fan and Maya is one of my favorite characters. So I decided to make myself a wallpaper for my PC. . Here is the original image versus the creation I made :) Enjoy! pic.twitter.com/mLsI5wf9Jg       |[spent, hour, making, something, fun, , , dont, know, huge, borderland, fan, maya, one, favorite, character, decided, make, wallpaper, pc, , original, image, versus, creation, made, , enjoy, pictwittercommlsiwfjg]          |\n|2402|Borderlands|Positive |So I spent a couple of hours doing something for fun... If you don't know that I'm a huge @ Borderlands fan and Maya is one of my favorite characters, I decided to make a wallpaper for my PC.. Here's the original picture compared to the creation I made:) Have fun! pic.twitter.com / mLsI5wf9Jg|[spent, couple, hour, something, fun, dont, know, im, huge, , borderland, fan, maya, one, favorite, character, decided, make, wallpaper, pc, here, original, picture, compared, creation, made, fun, pictwittercom, , mlsiwfjg]|\n|2402|Borderlands|Positive |So I spent a few hours doing something for fun... If you don't know I'm a HUGE @ Borderlands fan and Maya is one of my favorite characters.                                                                                                                                                          |[spent, hour, something, fun, dont, know, im, huge, , borderland, fan, maya, one, favorite, character]                                                                                                                         |\n|2402|Borderlands|Positive |So I spent a few hours making something for fun. . . If you don't know I am a HUGE RhandlerR fan and Maya is one of my favorite characters. So I decided to make myself a wallpaper for my PC. . Here is the original image versus the creation I made :) Enjoy! pic.twitter.com/mLsI5wf9Jg          |[spent, hour, making, something, fun, , , dont, know, huge, rhandlerr, fan, maya, one, favorite, character, decided, make, wallpaper, pc, , original, image, versus, creation, made, , enjoy, pictwittercommlsiwfjg]           |\n|2402|Borderlands|Positive |2010 So I spent a few hours making something for fun. . . If you don't know I am a HUGE RhandlerR fan and Maya is one of my favorite characters. So I decided to make myself a wallpaper for my PC. . Here is the original image versus the creation I made :) Enjoy! pic.twitter.com/mLsI5wf9Jg     |[, spent, hour, making, something, fun, , , dont, know, huge, rhandlerr, fan, maya, one, favorite, character, decided, make, wallpaper, pc, , original, image, versus, creation, made, , enjoy, pictwittercommlsiwfjg]         |\n|2402|Borderlands|Positive |was                                                                                                                                                                                                                                                                                                  |[]                                                                                                                                                                                                                             |\n|2403|Borderlands|Neutral  |Rock-Hard La Varlope, RARE & POWERFUL, HANDSOME JACKPOT, Borderlands 3 (Xbox) dlvr.it/RMTrgF                                                                                                                                                                                                         |[rockhard, la, varlope, rare, , powerful, handsome, jackpot, borderland, , xbox, dlvritrmtrgf, , ]                                                                                                                             |\n|2403|Borderlands|Neutral  |Rock-Hard La Varlope, RARE & POWERFUL, HANDSOME JACKPOT, Borderlands 3 (Xbox) dlvr.it / RMTrgF                                                                                                                                                                                                       |[rockhard, la, varlope, rare, , powerful, handsome, jackpot, borderland, , xbox, dlvrit, , rmtrgf]                                                                                                                             |\n|2403|Borderlands|Neutral  |Rock-Hard La Varlope, RARE & POWERFUL, HANDSOME JACKPOT, Borderlands 3 (Xbox) dfr.it / RMTrgF                                                                                                                                                                                                        |[rockhard, la, varlope, rare, , powerful, handsome, jackpot, borderland, , xbox, dfrit, , rmtrgf]                                                                                                                              |\n|2403|Borderlands|Neutral  |Rock-Hard La Vita, RARE BUT POWERFUL, HANDSOME JACKPOT, Borderlands 1 (Xbox) dlvr.it/RMTrgF                                                                                                                                                                                                          |[rockhard, la, vita, rare, powerful, handsome, jackpot, borderland, , xbox, dlvritrmtrgf]                                                                                                                                      |\n|2403|Borderlands|Neutral  |Live Rock - Hard music La la Varlope, RARE & the POWERFUL, Live HANDSOME i JACKPOT, Borderlands 3 ( Sega Xbox ) dlvr. From it / e RMTrgF                                                                                                                                                             |[live, rock, , hard, music, la, la, varlope, rare, , powerful, live, handsome, jackpot, borderland, , , sega, xbox, , dlvr, , e, rmtrgf]                                                                                       |\n|2403|Borderlands|Neutral  |I-Hard like me, RARE LONDON DE, HANDSOME 2011, Borderlands 3 (Xbox) dlvr.it/RMTrgF                                                                                                                                                                                                                   |[ihard, like, rare, london, de, handsome, , borderland, , xbox, dlvritrmtrgf]                                                                                                                                                  |\n|2404|Borderlands|Positive |that was the first borderlands session in a long time where i actually had a really satisfying combat experience. i got some really good kills                                                                                                                                                       |[first, borderland, session, long, time, actually, really, satisfying, combat, experience, got, really, good, kill]                                                                                                            |\n|2404|Borderlands|Positive |this was the first Borderlands session in a long time where i actually had a really satisfying fighting experience. i got some really good kills                                                                                                                                                     |[first, borderland, session, long, time, actually, really, satisfying, fighting, experience, got, really, good, kill]                                                                                                          |\n|2404|Borderlands|Positive |that was the first borderlands session in a long time where i actually had a really satisfying combat experience. i got some really good kills                                                                                                                                                       |[first, borderland, session, long, time, actually, really, satisfying, combat, experience, got, really, good, kill]                                                                                                            |\n+----+-----------+---------+-----------------------------------------------------------------------------------------------------------------------------------------------------------------------------------------------------------------------------------------------------------------------------------------------------+-------------------------------------------------------------------------------------------------------------------------------------------------------------------------------------------------------------------------------+\nonly showing top 20 rows\n\n"
     ]
    }
   ],
   "source": [
    "# Preprocess text using the function\n",
    "df_preprocessed = preprocess_text_spark(df, 'Text', 'Preprocessed_Text')\n",
    "\n",
    "# Show the preprocessed DataFrame\n",
    "df_preprocessed.show(truncate=False)"
   ]
  },
  {
   "cell_type": "code",
   "execution_count": 0,
   "metadata": {
    "application/vnd.databricks.v1+cell": {
     "cellMetadata": {
      "byteLimit": 2048000,
      "rowLimit": 10000
     },
     "inputWidgets": {},
     "nuid": "05c1c863-4d7c-41a3-8527-3f0d8bb124c7",
     "showTitle": false,
     "title": ""
    }
   },
   "outputs": [
    {
     "output_type": "stream",
     "name": "stdout",
     "output_type": "stream",
     "text": [
      "+----+-----------+---------+--------------------+--------------------+\n|  ID|   Category|Sentiment|                Text|   Preprocessed_Text|\n+----+-----------+---------+--------------------+--------------------+\n|2401|Borderlands| Positive|I am coming to th...|[coming, border, ...|\n+----+-----------+---------+--------------------+--------------------+\nonly showing top 1 row\n\n"
     ]
    }
   ],
   "source": [
    "df_preprocessed.show(1)"
   ]
  },
  {
   "cell_type": "code",
   "execution_count": 0,
   "metadata": {
    "application/vnd.databricks.v1+cell": {
     "cellMetadata": {
      "byteLimit": 2048000,
      "rowLimit": 10000
     },
     "inputWidgets": {},
     "nuid": "f32b1bf1-8207-47bd-8c97-b19c1accd172",
     "showTitle": true,
     "title": "Convert tokenized text into a single sentence and create a new column 'Preprocessed_Sentence'"
    }
   },
   "outputs": [],
   "source": [
    "df_preprocessed = df_preprocessed.withColumn('Preprocessed_Sentence', concat_ws(' ', df_preprocessed['Preprocessed_Text']))\n"
   ]
  },
  {
   "cell_type": "code",
   "execution_count": 0,
   "metadata": {
    "application/vnd.databricks.v1+cell": {
     "cellMetadata": {
      "byteLimit": 2048000,
      "rowLimit": 10000
     },
     "inputWidgets": {},
     "nuid": "25a21701-f579-4fa8-8a19-a463b7e58c92",
     "showTitle": true,
     "title": "Checking first row of dataframe"
    }
   },
   "outputs": [
    {
     "output_type": "stream",
     "name": "stdout",
     "output_type": "stream",
     "text": [
      "+----+-----------+---------+--------------------+--------------------+---------------------+\n|  ID|   Category|Sentiment|                Text|   Preprocessed_Text|Preprocessed_Sentence|\n+----+-----------+---------+--------------------+--------------------+---------------------+\n|2401|Borderlands| Positive|I am coming to th...|[coming, border, ...|   coming border kill|\n+----+-----------+---------+--------------------+--------------------+---------------------+\nonly showing top 1 row\n\n"
     ]
    }
   ],
   "source": [
    "df_preprocessed.show(1)"
   ]
  }
 ],
 "metadata": {
  "application/vnd.databricks.v1+notebook": {
   "dashboards": [],
   "environmentMetadata": null,
   "language": "python",
   "notebookMetadata": {
    "pythonIndentUnit": 4
   },
   "notebookName": "Sentiment_EDA_Spark",
   "widgets": {}
  }
 },
 "nbformat": 4,
 "nbformat_minor": 0
}
